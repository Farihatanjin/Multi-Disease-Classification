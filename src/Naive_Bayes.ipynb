{
  "nbformat": 4,
  "nbformat_minor": 0,
  "metadata": {
    "colab": {
      "name": "Naive_Bayes.ipynb",
      "provenance": [],
      "collapsed_sections": []
    },
    "kernelspec": {
      "name": "python3",
      "display_name": "Python 3"
    },
    "language_info": {
      "name": "python"
    }
  },
  "cells": [
    {
      "cell_type": "code",
      "source": [
        "import pandas as pd\n",
        "import numpy as np\n",
        "\n",
        "from sklearn.metrics import accuracy_score\n",
        "from sklearn.model_selection import train_test_split\n",
        "from sklearn.metrics import f1_score\n",
        "import matplotlib.pyplot as plt\n",
        "from sklearn.naive_bayes import ComplementNB\n",
        "from sklearn.naive_bayes import GaussianNB\n",
        "from sklearn.metrics import cohen_kappa_score\n",
        "\n",
        "npseed = 4321"
      ],
      "metadata": {
        "id": "7g6B5mjLgKnM"
      },
      "execution_count": 11,
      "outputs": []
    },
    {
      "cell_type": "code",
      "source": [
        "data = pd.read_csv('/content/sample_data/challenge_1_gut_microbiome_data.csv', error_bad_lines = False)\n",
        "\n",
        "data['disease'] = data['disease'].replace(['Healthy'],'0') \n",
        "data['disease'] = data['disease'].replace(['Disease-1'],'1') \n",
        "data['disease'] = data['disease'].replace(['Disease-2'],'2') \n",
        "data['disease'] = data['disease'].replace(['Disease-3'],'3') \n",
        "\n",
        "#drop column with sample name\n",
        "data = data.drop(data.columns[0], axis=1)\n",
        "data.reset_index(drop=True, inplace=True)\n",
        "data = data.astype(float)"
      ],
      "metadata": {
        "colab": {
          "base_uri": "https://localhost:8080/"
        },
        "id": "NpZtgKsNgPrw",
        "outputId": "7d2d692d-ebb8-4285-84f2-45d05745695b"
      },
      "execution_count": 12,
      "outputs": [
        {
          "output_type": "stream",
          "name": "stderr",
          "text": [
            "/usr/local/lib/python3.7/dist-packages/IPython/core/interactiveshell.py:2882: FutureWarning: The error_bad_lines argument has been deprecated and will be removed in a future version.\n",
            "\n",
            "\n",
            "  exec(code_obj, self.user_global_ns, self.user_ns)\n"
          ]
        }
      ]
    },
    {
      "cell_type": "code",
      "source": [
        "data = data.to_numpy()\n",
        "x, y = data[:,:-1], data[:,-1]\n",
        "(num_instances, num_features), num_classes = x.shape, y.shape\n",
        "\n",
        "np.random.seed(npseed)\n",
        "\n",
        "(num_instances, num_features), num_classes = x.shape, y.shape\n",
        "inds = np.random.permutation(num_instances)"
      ],
      "metadata": {
        "id": "lQfxlVB7gVsv"
      },
      "execution_count": 13,
      "outputs": []
    },
    {
      "cell_type": "code",
      "source": [
        "#split is 75% training 25% test \n",
        "(X_train, X_test, y_train, y_test) = train_test_split(x, y, train_size=0.75, random_state=180)\n",
        "\n",
        "clf = ComplementNB()\n",
        "clf.fit(X_train, y_train)\n",
        "y_pred = clf.predict(X_test)\n",
        "\n",
        "print(f1_score(y_test,y_pred, average='weighted')*100)\n",
        "print(cohen_kappa_score(y_test,y_pred,weights='quadratic')*100)"
      ],
      "metadata": {
        "colab": {
          "base_uri": "https://localhost:8080/"
        },
        "id": "4SKc_wslXItv",
        "outputId": "4c75df37-714c-4929-dfaa-9132ba10ca36"
      },
      "execution_count": 14,
      "outputs": [
        {
          "output_type": "stream",
          "name": "stdout",
          "text": [
            "59.326650177730556\n",
            "43.476785447678644\n"
          ]
        }
      ]
    }
  ]
}